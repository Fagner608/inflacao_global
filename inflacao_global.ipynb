{
  "nbformat": 4,
  "nbformat_minor": 0,
  "metadata": {
    "colab": {
      "provenance": [],
      "authorship_tag": "ABX9TyPogesubEKa64l1ZQls+/mN",
      "include_colab_link": true
    },
    "kernelspec": {
      "name": "python3",
      "display_name": "Python 3"
    },
    "language_info": {
      "name": "python"
    }
  },
  "cells": [
    {
      "cell_type": "markdown",
      "metadata": {
        "id": "view-in-github",
        "colab_type": "text"
      },
      "source": [
        "<a href=\"https://colab.research.google.com/github/Fagner608/inflacao_global/blob/main/inflacao_global.ipynb\" target=\"_parent\"><img src=\"https://colab.research.google.com/assets/colab-badge.svg\" alt=\"Open In Colab\"/></a>"
      ]
    },
    {
      "cell_type": "markdown",
      "source": [
        "## **Análise exploratória e DataViz com Google Data Studio**"
      ],
      "metadata": {
        "id": "mE_B0Te_0HhV"
      }
    },
    {
      "cell_type": "markdown",
      "source": [
        "### *Sobre o conjunto de dados*\n",
        "\n",
        "Fonte: [Kaggle]('https://www.kaggle.com/datasets/bhupeshsinghrathore/world-inflation-dataset-19602021?select=Data+set+for+inflation.csv')\n",
        "\n",
        "Descrição: *Este é o conjunto de dados para a inflação mundial de 1960 a 2021, obtido do site do banco mundial para analisar a taxa de inflação em todo o mundo e nas principais economias.*\n",
        "\n",
        "\n",
        "Fonte: [Kaggle]('https://www.kaggle.com/datasets/uddipta/world-bank-unemployment-data-19912017')\n",
        "\n",
        "\n",
        "Fonte: [Kaggle]('https://www.kaggle.com/datasets/fredericksalazar/pib-gdp-global-by-countries-since-1960-to-2021')"
      ],
      "metadata": {
        "id": "br1g7fF00pR7"
      }
    },
    {
      "cell_type": "markdown",
      "source": [
        "### **Motivação**"
      ],
      "metadata": {
        "id": "Fm_n-2vx1rNU"
      }
    },
    {
      "cell_type": "markdown",
      "source": [
        "## **Carregando bibliotecas**"
      ],
      "metadata": {
        "id": "CtbhnnqE1xJs"
      }
    },
    {
      "cell_type": "code",
      "source": [
        "# Bibliotecas nativas\n",
        "import warnings\n",
        "\n",
        "# Bibliotecas externas\n",
        "import pandas as pd\n",
        "import seaborn as sns\n",
        "import numpy as np\n",
        "import re\n"
      ],
      "metadata": {
        "id": "ABYaAkbj1rCu"
      },
      "execution_count": null,
      "outputs": []
    },
    {
      "cell_type": "code",
      "execution_count": null,
      "metadata": {
        "id": "walN9J2E7nuj"
      },
      "outputs": [],
      "source": [
        "# Configurando área de plotagem e warnings\n",
        "warnings.filterwarnings('ignore')\n",
        "\n",
        "sns.set(style = 'whitegrid', context = 'talk', font_scale = 0.8, rc = {'figure.figsize':(20,8)})"
      ]
    },
    {
      "cell_type": "markdown",
      "source": [
        "## **Carregando e visualizando bases de dados**"
      ],
      "metadata": {
        "id": "_-DosDR13KiW"
      }
    },
    {
      "cell_type": "code",
      "source": [
        "# Verificando dados no diretório\n",
        "!pwd"
      ],
      "metadata": {
        "colab": {
          "base_uri": "https://localhost:8080/"
        },
        "id": "ssQPIWCY29-9",
        "outputId": "5ff24de6-301f-40f7-c324-032e7053455c"
      },
      "execution_count": null,
      "outputs": [
        {
          "output_type": "stream",
          "name": "stdout",
          "text": [
            "/content\n"
          ]
        }
      ]
    },
    {
      "cell_type": "code",
      "source": [
        "!ls"
      ],
      "metadata": {
        "colab": {
          "base_uri": "https://localhost:8080/"
        },
        "id": "wkZi3WJ_3rBI",
        "outputId": "c43b1675-0a8c-40e8-d0a8-a00f2bcba7fe"
      },
      "execution_count": null,
      "outputs": [
        {
          "output_type": "stream",
          "name": "stdout",
          "text": [
            " API_FP.CPI.TOTL.ZG_DS2_en_csv_v2_4250827.csv\n",
            "'Data set for inflation.csv'\n",
            " Metadata_Country_API_FP.CPI.TOTL.ZG_DS2_en_csv_v2_4250827.csv\n",
            " Metadata_Indicator_API_FP.CPI.TOTL.ZG_DS2_en_csv_v2_4250827.csv\n",
            " sample_data\n"
          ]
        }
      ]
    },
    {
      "cell_type": "code",
      "source": [
        "# Carregando dados de inflação\n",
        "\n",
        "!wget 'https://raw.githubusercontent.com/Fagner608/inflacao_global/main/Data%20set%20for%20inflation.csv?token=GHSAT0AAAAAAB5WOSKFPVGCXDSB6FIRGSZIZAAALYA' -O 'inflacao.csv'\n",
        "\n",
        "inflation = pd.read_csv('inflacao.csv')"
      ],
      "metadata": {
        "id": "1HPHPNDO3skr",
        "colab": {
          "base_uri": "https://localhost:8080/"
        },
        "outputId": "db3bc934-2b9f-4fef-d1a3-a13ae36e93ca"
      },
      "execution_count": null,
      "outputs": [
        {
          "output_type": "stream",
          "name": "stdout",
          "text": [
            "--2023-03-02 00:59:30--  https://raw.githubusercontent.com/Fagner608/inflacao_global/main/Data%20set%20for%20inflation.csv?token=GHSAT0AAAAAAB5WOSKFPVGCXDSB6FIRGSZIZAAALYA\n",
            "Resolving raw.githubusercontent.com (raw.githubusercontent.com)... 185.199.108.133, 185.199.109.133, 185.199.110.133, ...\n",
            "Connecting to raw.githubusercontent.com (raw.githubusercontent.com)|185.199.108.133|:443... connected.\n",
            "HTTP request sent, awaiting response... 200 OK\n",
            "Length: 150649 (147K) [text/plain]\n",
            "Saving to: ‘inflacao.csv’\n",
            "\n",
            "inflacao.csv        100%[===================>] 147.12K  --.-KB/s    in 0.02s   \n",
            "\n",
            "2023-03-02 00:59:31 (6.28 MB/s) - ‘inflacao.csv’ saved [150649/150649]\n",
            "\n"
          ]
        }
      ]
    },
    {
      "cell_type": "code",
      "source": [
        "# Carregando dados de desemprego\n",
        "\n",
        "!wget 'https://raw.githubusercontent.com/Fagner608/inflacao_global/main/full_data.csv?token=GHSAT0AAAAAAB5WOSKEZRAXD3X2VAQO2EHSZAAAM5A' -O 'unployment.csv'\n",
        "\n",
        "unployment = pd.read_csv('unployment.csv')"
      ],
      "metadata": {
        "id": "309djjeb6-E9",
        "colab": {
          "base_uri": "https://localhost:8080/"
        },
        "outputId": "35ac4bd9-997f-4ab8-daa0-e95935e67d26"
      },
      "execution_count": null,
      "outputs": [
        {
          "output_type": "stream",
          "name": "stdout",
          "text": [
            "--2023-03-02 01:00:38--  https://raw.githubusercontent.com/Fagner608/inflacao_global/main/full_data.csv?token=GHSAT0AAAAAAB5WOSKEZRAXD3X2VAQO2EHSZAAAM5A\n",
            "Resolving raw.githubusercontent.com (raw.githubusercontent.com)... 185.199.108.133, 185.199.109.133, 185.199.110.133, ...\n",
            "Connecting to raw.githubusercontent.com (raw.githubusercontent.com)|185.199.108.133|:443... connected.\n",
            "HTTP request sent, awaiting response... 200 OK\n",
            "Length: 110496 (108K) [text/plain]\n",
            "Saving to: ‘unployment.csv’\n",
            "\n",
            "\runployment.csv        0%[                    ]       0  --.-KB/s               \runployment.csv      100%[===================>] 107.91K  --.-KB/s    in 0.02s   \n",
            "\n",
            "2023-03-02 01:00:38 (5.00 MB/s) - ‘unployment.csv’ saved [110496/110496]\n",
            "\n"
          ]
        }
      ]
    },
    {
      "cell_type": "code",
      "source": [
        "# Carregando dados do PIB\n",
        "\n",
        "!wget 'https://raw.githubusercontent.com/Fagner608/inflacao_global/main/countries_gdp_hist.csv?token=GHSAT0AAAAAAB5WOSKFVHCYE6UEMJXVOE5QZAAANQA' -O 'pib.csv'\n",
        "\n",
        "pib = pd.read_csv('pib.csv', sep = ';')"
      ],
      "metadata": {
        "id": "rIktUNWe7feS",
        "colab": {
          "base_uri": "https://localhost:8080/"
        },
        "outputId": "6b9fa3db-c3b8-4e0b-8cfb-33e75d7eefc2"
      },
      "execution_count": null,
      "outputs": [
        {
          "output_type": "stream",
          "name": "stdout",
          "text": [
            "--2023-03-02 01:01:28--  https://raw.githubusercontent.com/Fagner608/inflacao_global/main/countries_gdp_hist.csv?token=GHSAT0AAAAAAB5WOSKFVHCYE6UEMJXVOE5QZAAANQA\n",
            "Resolving raw.githubusercontent.com (raw.githubusercontent.com)... 185.199.108.133, 185.199.109.133, 185.199.110.133, ...\n",
            "Connecting to raw.githubusercontent.com (raw.githubusercontent.com)|185.199.108.133|:443... connected.\n",
            "HTTP request sent, awaiting response... 200 OK\n",
            "Length: 1586722 (1.5M) [text/plain]\n",
            "Saving to: ‘pib.csv’\n",
            "\n",
            "pib.csv             100%[===================>]   1.51M  --.-KB/s    in 0.06s   \n",
            "\n",
            "2023-03-02 01:01:29 (26.9 MB/s) - ‘pib.csv’ saved [1586722/1586722]\n",
            "\n"
          ]
        }
      ]
    },
    {
      "cell_type": "markdown",
      "source": [
        "### **Dicionários de dados**\n",
        "\n",
        "  - inflation\n",
        "\n",
        "|Coluna|Descrição|\n",
        "|-------|---------|\n",
        "|Country Name| Nome dos países|\n",
        "|Country Code| Código(abreviação) dos países|\n",
        "|Indicator Name| Indicador utilizado (preços ao consumidor)|\n",
        "|Indicator Code | Código internacional do indicador utilizado|\n",
        "|1960| Primeiro ano com dado de inflação|\n",
        "|...|...|\n",
        "\n",
        "\n",
        "  - unployment\n",
        "\n",
        "|Coluna|Descrição|\n",
        "|-------|---------|\n",
        "|Country Name| Nome dos países|\n",
        "|Region| A região do país|\n",
        "|Income Group| A qual grupo de renda o país pertence|\n",
        "|Special Notes| Qualquer nota especial sobre o país|\n",
        "|Years(1991-2017| contém a taxa de desemprego desse ano em particular|\n",
        "\n",
        "  - PIB\n",
        "\n",
        "\n",
        "|Coluna|Descrição|\n",
        "|-------|---------|\n",
        "|Alpha 3 country code| Código dos países|\n",
        "|region_name| Continente|\n",
        "|sub_region_name| VERIFICAR|\n",
        "|intermediate_region| VERIFICAR|\n",
        "|country_name| Nome do país|\n",
        "|income_groupe| Faixa de renda|\n",
        "|year| Ano|\n",
        "|total_gdp| Total do PIB|\n",
        "|total_gdp_milion| Total em milhões|\n",
        "|gdp_variation| Variação do PIB|\n"
      ],
      "metadata": {
        "id": "_Zyf-BtU9OSv"
      }
    },
    {
      "cell_type": "markdown",
      "source": [
        "Verificamos que os dados estão dispostos em diferentes estruturas. Faremos o pré-processamento dos dados, deixando-os todos com o mesmo schema."
      ],
      "metadata": {
        "id": "wMvhKfk7BG0J"
      }
    },
    {
      "cell_type": "markdown",
      "source": [
        "### *Esclarecimentos*\n",
        "\n",
        "Verificando a necessidade de pré-processamento, e, estabelecidos os objetivos da análise, aplicaremos POO (programação orientada a objetos) à todas as fases da análise.\n",
        "\n",
        "Foram criadas classes, com métodos e atributos específicos para este dataset, e, para o fluxo de trabalho, nesta ordem:\n",
        "\n",
        "Pré-processamento > Análise exploratória e Data-wrangling > Machine Learning.\n",
        "\n",
        " - As classes herdam os atributos e métodos das criadas para a classe antecessora.\n",
        "\n",
        " - O fluxo acima poderá ser repetido quantas vezes forem necessário para se obter os resutados desejados."
      ],
      "metadata": {
        "id": "TxgvOg2UBd6A"
      }
    },
    {
      "cell_type": "markdown",
      "source": [
        "### **Classe para pré-processamento dos dados**"
      ],
      "metadata": {
        "id": "z3geWFjtBycg"
      }
    },
    {
      "cell_type": "code",
      "source": [
        "# Classe para instanciar o DF\n",
        "class data():\n",
        "\n",
        "  def __init__(self, dataframe: pd.DataFrame) -> pd.DataFrame:\n",
        "\n",
        "    if type(dataframe) == pd.DataFrame:\n",
        "      \n",
        "      self.__df = dataframe\n",
        "\n",
        "    else:\n",
        "\n",
        "      print('Dados não instanciados. Instancie um objeto do tipo pd.DataFrame')\n",
        "\n",
        "  #definindo getter\n",
        "  @property\n",
        "\n",
        "  def dataframe(self):\n",
        "\n",
        "    return self.__df\n",
        "  \n",
        "  #definindo setter\n",
        "  @dataframe.setter\n",
        "\n",
        "  def dataframe(self, df_2):\n",
        "\n",
        "    if type(df_2) == pd.DataFrame:\n",
        "      \n",
        "      self.__df = df_2\n",
        "\n",
        "    else:\n",
        "\n",
        "      print('Dados não instanciados. Instancie um objeto do tipo pd.DataFrame')\n"
      ],
      "metadata": {
        "id": "2Dg3D_sjBddV"
      },
      "execution_count": null,
      "outputs": []
    },
    {
      "cell_type": "code",
      "source": [
        "# criando classe para verificar informações\n",
        "class pre_processing(data):\n",
        "\n",
        "  def __init__(self):\n",
        "    pass\n",
        "\n",
        "  def clean(self, char = False):\n",
        "\n",
        "    self.dataframe.columns = [i.replace(\" \",\"_\") for i in self.dataframe.columns]\n",
        "\n",
        "    if char is not None:\n",
        "\n",
        "      self.dataframe.columns = [i.replace(f\"{char}\",\"_\") for i in self.dataframe.columns]\n",
        "\n",
        "    for coluna in self.dataframe.select_dtypes('object').columns:\n",
        "        \n",
        "            if char is not None:\n",
        "\n",
        "              self.dataframe[coluna] = self.dataframe[coluna].apply(lambda x: x.replace(f\"{char}\", \"_\"))\n",
        "\n",
        "            self.dataframe[coluna] = self.dataframe[coluna].apply(lambda x: x.replace(\" \", \"_\"))\n",
        "        \n",
        "            self.dataframe[coluna] = self.dataframe[coluna].apply(lambda x: x.lower())\n",
        "        \n",
        "            self.dataframe[coluna] = self.dataframe[coluna].apply(lambda x: re.sub(r'[áàãâä]', 'a', x))\n",
        "        \n",
        "            self.dataframe[coluna] = self.dataframe[coluna].apply(lambda x: re.sub(r'[éèêë]', 'e', x))\n",
        "        \n",
        "            self.dataframe[coluna] = self.dataframe[coluna].apply(lambda x: re.sub(r'[íìîï]', 'i', x))\n",
        "        \n",
        "            self.dataframe[coluna] = self.dataframe[coluna].apply(lambda x: re.sub(r'[óòõôö]', 'o', x))\n",
        "        \n",
        "            self.dataframe[coluna] = self.dataframe[coluna].apply(lambda x: re.sub(r'[úùûü]', 'u', x))\n",
        "        \n",
        "            self.dataframe[coluna] = self.dataframe[coluna].apply(lambda x: re.sub(r'[ç]', 'c', x))\n",
        "\n",
        "            self.dataframe[coluna] = self.dataframe[coluna].apply(lambda x: re.sub(r\"['’]\", '', x))\n"
      ],
      "metadata": {
        "id": "DjaCMF_83I4d"
      },
      "execution_count": null,
      "outputs": []
    },
    {
      "cell_type": "markdown",
      "source": [
        "### Classe para datawrangling"
      ],
      "metadata": {
        "id": "mrkQt91nFCZj"
      }
    },
    {
      "cell_type": "code",
      "source": [
        "class data_wrangling(pre_processing):\n",
        "\n",
        "  def __init__(self):\n",
        "    pass\n",
        "\n",
        "  def larg_long(self, id_vars = [], var_name = str, value_name = str, sort_values=[]):\n",
        "\n",
        "    return pd.melt(instanciando_inflation.dataframe, id_vars=id_vars,\n",
        "            var_name=var_name, value_name=value_name).sort_values(by  = sort_values).reset_index(drop = True)"
      ],
      "metadata": {
        "id": "XytslxpsEo9l"
      },
      "execution_count": null,
      "outputs": []
    },
    {
      "cell_type": "code",
      "source": [
        "instanciando_inflation = data_wrangling()"
      ],
      "metadata": {
        "id": "6Nk9_1H8_XhU"
      },
      "execution_count": null,
      "outputs": []
    },
    {
      "cell_type": "code",
      "source": [
        "instanciando_inflation.dataframe = inflation"
      ],
      "metadata": {
        "id": "k7wyU7BdBdcY"
      },
      "execution_count": null,
      "outputs": []
    },
    {
      "cell_type": "code",
      "source": [
        "instanciando_inflation.clean(char = '%')"
      ],
      "metadata": {
        "id": "AejgBiBQCzbs"
      },
      "execution_count": null,
      "outputs": []
    },
    {
      "cell_type": "code",
      "source": [
        "instanciando_inflation.dataframe.columns"
      ],
      "metadata": {
        "colab": {
          "base_uri": "https://localhost:8080/"
        },
        "id": "tp3PvyeMT33c",
        "outputId": "e6c7e876-465f-435f-a321-4f3a8d406085"
      },
      "execution_count": null,
      "outputs": [
        {
          "output_type": "execute_result",
          "data": {
            "text/plain": [
              "Index(['Country_Name', 'Country_Code', 'Indicator_Name', 'Indicator_Code',\n",
              "       '1960', '1961', '1962', '1963', '1964', '1965', '1966', '1967', '1968',\n",
              "       '1969', '1970', '1971', '1972', '1973', '1974', '1975', '1976', '1977',\n",
              "       '1978', '1979', '1980', '1981', '1982', '1983', '1984', '1985', '1986',\n",
              "       '1987', '1988', '1989', '1990', '1991', '1992', '1993', '1994', '1995',\n",
              "       '1996', '1997', '1998', '1999', '2000', '2001', '2002', '2003', '2004',\n",
              "       '2005', '2006', '2007', '2008', '2009', '2010', '2011', '2012', '2013',\n",
              "       '2014', '2015', '2016', '2017', '2018', '2019', '2020', '2021'],\n",
              "      dtype='object')"
            ]
          },
          "metadata": {},
          "execution_count": 233
        }
      ]
    },
    {
      "cell_type": "code",
      "source": [
        "inflaction_2 = data_wrangling()"
      ],
      "metadata": {
        "id": "pkWjI13BJF46"
      },
      "execution_count": null,
      "outputs": []
    },
    {
      "cell_type": "code",
      "source": [
        "inflaction_2.dataframe = instanciando_inflation.larg_long(id_vars = ['Country_Name', 'Country_Code', 'Indicator_Name', 'Indicator_Code'],\n",
        "                                 var_name = 'year', value_name = 'variacao', sort_values = ['Country_Name', 'year'])"
      ],
      "metadata": {
        "id": "8fzW03_fTHyX"
      },
      "execution_count": null,
      "outputs": []
    },
    {
      "cell_type": "code",
      "source": [
        "inflaction_2.dataframe"
      ],
      "metadata": {
        "colab": {
          "base_uri": "https://localhost:8080/",
          "height": 423
        },
        "id": "8PeXIXJyTkmc",
        "outputId": "b7332f79-3bf5-4546-d1b1-9b74ad32836b"
      },
      "execution_count": null,
      "outputs": [
        {
          "output_type": "execute_result",
          "data": {
            "text/plain": [
              "      Country_Name Country_Code                         Indicator_Name  \\\n",
              "0      afghanistan          afg  inflation,_consumer_prices_(annual__)   \n",
              "1      afghanistan          afg  inflation,_consumer_prices_(annual__)   \n",
              "2      afghanistan          afg  inflation,_consumer_prices_(annual__)   \n",
              "3      afghanistan          afg  inflation,_consumer_prices_(annual__)   \n",
              "4      afghanistan          afg  inflation,_consumer_prices_(annual__)   \n",
              "...            ...          ...                                    ...   \n",
              "16487     zimbabwe          zwe  inflation,_consumer_prices_(annual__)   \n",
              "16488     zimbabwe          zwe  inflation,_consumer_prices_(annual__)   \n",
              "16489     zimbabwe          zwe  inflation,_consumer_prices_(annual__)   \n",
              "16490     zimbabwe          zwe  inflation,_consumer_prices_(annual__)   \n",
              "16491     zimbabwe          zwe  inflation,_consumer_prices_(annual__)   \n",
              "\n",
              "       Indicator_Code  year    variacao  \n",
              "0      fp.cpi.totl.zg  1960         NaN  \n",
              "1      fp.cpi.totl.zg  1961         NaN  \n",
              "2      fp.cpi.totl.zg  1962         NaN  \n",
              "3      fp.cpi.totl.zg  1963         NaN  \n",
              "4      fp.cpi.totl.zg  1964         NaN  \n",
              "...               ...   ...         ...  \n",
              "16487  fp.cpi.totl.zg  2017    0.893962  \n",
              "16488  fp.cpi.totl.zg  2018   10.618866  \n",
              "16489  fp.cpi.totl.zg  2019  255.304991  \n",
              "16490  fp.cpi.totl.zg  2020  557.201817  \n",
              "16491  fp.cpi.totl.zg  2021   98.546105  \n",
              "\n",
              "[16492 rows x 6 columns]"
            ],
            "text/html": [
              "\n",
              "  <div id=\"df-31b23875-4e43-4733-a782-3df22e7930de\">\n",
              "    <div class=\"colab-df-container\">\n",
              "      <div>\n",
              "<style scoped>\n",
              "    .dataframe tbody tr th:only-of-type {\n",
              "        vertical-align: middle;\n",
              "    }\n",
              "\n",
              "    .dataframe tbody tr th {\n",
              "        vertical-align: top;\n",
              "    }\n",
              "\n",
              "    .dataframe thead th {\n",
              "        text-align: right;\n",
              "    }\n",
              "</style>\n",
              "<table border=\"1\" class=\"dataframe\">\n",
              "  <thead>\n",
              "    <tr style=\"text-align: right;\">\n",
              "      <th></th>\n",
              "      <th>Country_Name</th>\n",
              "      <th>Country_Code</th>\n",
              "      <th>Indicator_Name</th>\n",
              "      <th>Indicator_Code</th>\n",
              "      <th>year</th>\n",
              "      <th>variacao</th>\n",
              "    </tr>\n",
              "  </thead>\n",
              "  <tbody>\n",
              "    <tr>\n",
              "      <th>0</th>\n",
              "      <td>afghanistan</td>\n",
              "      <td>afg</td>\n",
              "      <td>inflation,_consumer_prices_(annual__)</td>\n",
              "      <td>fp.cpi.totl.zg</td>\n",
              "      <td>1960</td>\n",
              "      <td>NaN</td>\n",
              "    </tr>\n",
              "    <tr>\n",
              "      <th>1</th>\n",
              "      <td>afghanistan</td>\n",
              "      <td>afg</td>\n",
              "      <td>inflation,_consumer_prices_(annual__)</td>\n",
              "      <td>fp.cpi.totl.zg</td>\n",
              "      <td>1961</td>\n",
              "      <td>NaN</td>\n",
              "    </tr>\n",
              "    <tr>\n",
              "      <th>2</th>\n",
              "      <td>afghanistan</td>\n",
              "      <td>afg</td>\n",
              "      <td>inflation,_consumer_prices_(annual__)</td>\n",
              "      <td>fp.cpi.totl.zg</td>\n",
              "      <td>1962</td>\n",
              "      <td>NaN</td>\n",
              "    </tr>\n",
              "    <tr>\n",
              "      <th>3</th>\n",
              "      <td>afghanistan</td>\n",
              "      <td>afg</td>\n",
              "      <td>inflation,_consumer_prices_(annual__)</td>\n",
              "      <td>fp.cpi.totl.zg</td>\n",
              "      <td>1963</td>\n",
              "      <td>NaN</td>\n",
              "    </tr>\n",
              "    <tr>\n",
              "      <th>4</th>\n",
              "      <td>afghanistan</td>\n",
              "      <td>afg</td>\n",
              "      <td>inflation,_consumer_prices_(annual__)</td>\n",
              "      <td>fp.cpi.totl.zg</td>\n",
              "      <td>1964</td>\n",
              "      <td>NaN</td>\n",
              "    </tr>\n",
              "    <tr>\n",
              "      <th>...</th>\n",
              "      <td>...</td>\n",
              "      <td>...</td>\n",
              "      <td>...</td>\n",
              "      <td>...</td>\n",
              "      <td>...</td>\n",
              "      <td>...</td>\n",
              "    </tr>\n",
              "    <tr>\n",
              "      <th>16487</th>\n",
              "      <td>zimbabwe</td>\n",
              "      <td>zwe</td>\n",
              "      <td>inflation,_consumer_prices_(annual__)</td>\n",
              "      <td>fp.cpi.totl.zg</td>\n",
              "      <td>2017</td>\n",
              "      <td>0.893962</td>\n",
              "    </tr>\n",
              "    <tr>\n",
              "      <th>16488</th>\n",
              "      <td>zimbabwe</td>\n",
              "      <td>zwe</td>\n",
              "      <td>inflation,_consumer_prices_(annual__)</td>\n",
              "      <td>fp.cpi.totl.zg</td>\n",
              "      <td>2018</td>\n",
              "      <td>10.618866</td>\n",
              "    </tr>\n",
              "    <tr>\n",
              "      <th>16489</th>\n",
              "      <td>zimbabwe</td>\n",
              "      <td>zwe</td>\n",
              "      <td>inflation,_consumer_prices_(annual__)</td>\n",
              "      <td>fp.cpi.totl.zg</td>\n",
              "      <td>2019</td>\n",
              "      <td>255.304991</td>\n",
              "    </tr>\n",
              "    <tr>\n",
              "      <th>16490</th>\n",
              "      <td>zimbabwe</td>\n",
              "      <td>zwe</td>\n",
              "      <td>inflation,_consumer_prices_(annual__)</td>\n",
              "      <td>fp.cpi.totl.zg</td>\n",
              "      <td>2020</td>\n",
              "      <td>557.201817</td>\n",
              "    </tr>\n",
              "    <tr>\n",
              "      <th>16491</th>\n",
              "      <td>zimbabwe</td>\n",
              "      <td>zwe</td>\n",
              "      <td>inflation,_consumer_prices_(annual__)</td>\n",
              "      <td>fp.cpi.totl.zg</td>\n",
              "      <td>2021</td>\n",
              "      <td>98.546105</td>\n",
              "    </tr>\n",
              "  </tbody>\n",
              "</table>\n",
              "<p>16492 rows × 6 columns</p>\n",
              "</div>\n",
              "      <button class=\"colab-df-convert\" onclick=\"convertToInteractive('df-31b23875-4e43-4733-a782-3df22e7930de')\"\n",
              "              title=\"Convert this dataframe to an interactive table.\"\n",
              "              style=\"display:none;\">\n",
              "        \n",
              "  <svg xmlns=\"http://www.w3.org/2000/svg\" height=\"24px\"viewBox=\"0 0 24 24\"\n",
              "       width=\"24px\">\n",
              "    <path d=\"M0 0h24v24H0V0z\" fill=\"none\"/>\n",
              "    <path d=\"M18.56 5.44l.94 2.06.94-2.06 2.06-.94-2.06-.94-.94-2.06-.94 2.06-2.06.94zm-11 1L8.5 8.5l.94-2.06 2.06-.94-2.06-.94L8.5 2.5l-.94 2.06-2.06.94zm10 10l.94 2.06.94-2.06 2.06-.94-2.06-.94-.94-2.06-.94 2.06-2.06.94z\"/><path d=\"M17.41 7.96l-1.37-1.37c-.4-.4-.92-.59-1.43-.59-.52 0-1.04.2-1.43.59L10.3 9.45l-7.72 7.72c-.78.78-.78 2.05 0 2.83L4 21.41c.39.39.9.59 1.41.59.51 0 1.02-.2 1.41-.59l7.78-7.78 2.81-2.81c.8-.78.8-2.07 0-2.86zM5.41 20L4 18.59l7.72-7.72 1.47 1.35L5.41 20z\"/>\n",
              "  </svg>\n",
              "      </button>\n",
              "      \n",
              "  <style>\n",
              "    .colab-df-container {\n",
              "      display:flex;\n",
              "      flex-wrap:wrap;\n",
              "      gap: 12px;\n",
              "    }\n",
              "\n",
              "    .colab-df-convert {\n",
              "      background-color: #E8F0FE;\n",
              "      border: none;\n",
              "      border-radius: 50%;\n",
              "      cursor: pointer;\n",
              "      display: none;\n",
              "      fill: #1967D2;\n",
              "      height: 32px;\n",
              "      padding: 0 0 0 0;\n",
              "      width: 32px;\n",
              "    }\n",
              "\n",
              "    .colab-df-convert:hover {\n",
              "      background-color: #E2EBFA;\n",
              "      box-shadow: 0px 1px 2px rgba(60, 64, 67, 0.3), 0px 1px 3px 1px rgba(60, 64, 67, 0.15);\n",
              "      fill: #174EA6;\n",
              "    }\n",
              "\n",
              "    [theme=dark] .colab-df-convert {\n",
              "      background-color: #3B4455;\n",
              "      fill: #D2E3FC;\n",
              "    }\n",
              "\n",
              "    [theme=dark] .colab-df-convert:hover {\n",
              "      background-color: #434B5C;\n",
              "      box-shadow: 0px 1px 3px 1px rgba(0, 0, 0, 0.15);\n",
              "      filter: drop-shadow(0px 1px 2px rgba(0, 0, 0, 0.3));\n",
              "      fill: #FFFFFF;\n",
              "    }\n",
              "  </style>\n",
              "\n",
              "      <script>\n",
              "        const buttonEl =\n",
              "          document.querySelector('#df-31b23875-4e43-4733-a782-3df22e7930de button.colab-df-convert');\n",
              "        buttonEl.style.display =\n",
              "          google.colab.kernel.accessAllowed ? 'block' : 'none';\n",
              "\n",
              "        async function convertToInteractive(key) {\n",
              "          const element = document.querySelector('#df-31b23875-4e43-4733-a782-3df22e7930de');\n",
              "          const dataTable =\n",
              "            await google.colab.kernel.invokeFunction('convertToInteractive',\n",
              "                                                     [key], {});\n",
              "          if (!dataTable) return;\n",
              "\n",
              "          const docLinkHtml = 'Like what you see? Visit the ' +\n",
              "            '<a target=\"_blank\" href=https://colab.research.google.com/notebooks/data_table.ipynb>data table notebook</a>'\n",
              "            + ' to learn more about interactive tables.';\n",
              "          element.innerHTML = '';\n",
              "          dataTable['output_type'] = 'display_data';\n",
              "          await google.colab.output.renderOutput(dataTable, element);\n",
              "          const docLink = document.createElement('div');\n",
              "          docLink.innerHTML = docLinkHtml;\n",
              "          element.appendChild(docLink);\n",
              "        }\n",
              "      </script>\n",
              "    </div>\n",
              "  </div>\n",
              "  "
            ]
          },
          "metadata": {},
          "execution_count": 231
        }
      ]
    }
  ]
}