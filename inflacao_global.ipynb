{
  "nbformat": 4,
  "nbformat_minor": 0,
  "metadata": {
    "colab": {
      "provenance": [],
      "authorship_tag": "ABX9TyMvA1pHKxvfgA8SG89t3+I0",
      "include_colab_link": true
    },
    "kernelspec": {
      "name": "python3",
      "display_name": "Python 3"
    },
    "language_info": {
      "name": "python"
    }
  },
  "cells": [
    {
      "cell_type": "markdown",
      "metadata": {
        "id": "view-in-github",
        "colab_type": "text"
      },
      "source": [
        "<a href=\"https://colab.research.google.com/github/Fagner608/inflacao_global/blob/main/inflacao_global.ipynb\" target=\"_parent\"><img src=\"https://colab.research.google.com/assets/colab-badge.svg\" alt=\"Open In Colab\"/></a>"
      ]
    },
    {
      "cell_type": "markdown",
      "source": [
        "## **Análise exploratória e DataViz com Google Data Studio**"
      ],
      "metadata": {
        "id": "mE_B0Te_0HhV"
      }
    },
    {
      "cell_type": "markdown",
      "source": [
        "### *Sobre o conjunto de dados*\n",
        "\n",
        "Fonte: [Kaggle]('https://www.kaggle.com/datasets/bhupeshsinghrathore/world-inflation-dataset-19602021?select=Data+set+for+inflation.csv')\n",
        "\n",
        "Descrição: *Este é o conjunto de dados para a inflação mundial de 1960 a 2021, obtido do site do banco mundial para analisar a taxa de inflação em todo o mundo e nas principais economias.*\n",
        "\n",
        "\n",
        "Fonte: [Kaggle]('https://www.kaggle.com/datasets/uddipta/world-bank-unemployment-data-19912017')\n",
        "\n",
        "\n",
        "Fonte: [Kaggle]('https://www.kaggle.com/datasets/fredericksalazar/pib-gdp-global-by-countries-since-1960-to-2021')"
      ],
      "metadata": {
        "id": "br1g7fF00pR7"
      }
    },
    {
      "cell_type": "markdown",
      "source": [
        "### **Motivação**"
      ],
      "metadata": {
        "id": "Fm_n-2vx1rNU"
      }
    },
    {
      "cell_type": "markdown",
      "source": [
        "## **Carregando bibliotecas**"
      ],
      "metadata": {
        "id": "CtbhnnqE1xJs"
      }
    },
    {
      "cell_type": "code",
      "source": [
        "# Bibliotecas nativas\n",
        "import warnings\n",
        "\n",
        "# Bibliotecas externas\n",
        "import pandas as pd\n",
        "import seaborn as sns\n",
        "import numpy as np\n",
        "import re\n"
      ],
      "metadata": {
        "id": "ABYaAkbj1rCu"
      },
      "execution_count": 1,
      "outputs": []
    },
    {
      "cell_type": "code",
      "execution_count": 2,
      "metadata": {
        "id": "walN9J2E7nuj"
      },
      "outputs": [],
      "source": [
        "# Configurando área de plotagem e warnings\n",
        "warnings.filterwarnings('ignore')\n",
        "\n",
        "sns.set(style = 'whitegrid', context = 'talk', font_scale = 0.8, rc = {'figure.figsize':(20,8)})"
      ]
    },
    {
      "cell_type": "markdown",
      "source": [
        "## **Carregando e visualizando bases de dados**"
      ],
      "metadata": {
        "id": "_-DosDR13KiW"
      }
    },
    {
      "cell_type": "code",
      "source": [
        "# Verificando dados no diretório\n",
        "!pwd"
      ],
      "metadata": {
        "colab": {
          "base_uri": "https://localhost:8080/"
        },
        "id": "ssQPIWCY29-9",
        "outputId": "3e98e2c7-0806-44fe-e51f-9e78bce63439"
      },
      "execution_count": 3,
      "outputs": [
        {
          "output_type": "stream",
          "name": "stdout",
          "text": [
            "/content\n"
          ]
        }
      ]
    },
    {
      "cell_type": "code",
      "source": [
        "!ls"
      ],
      "metadata": {
        "colab": {
          "base_uri": "https://localhost:8080/"
        },
        "id": "wkZi3WJ_3rBI",
        "outputId": "133819aa-9012-454d-c769-1c1fa3b8782f"
      },
      "execution_count": 4,
      "outputs": [
        {
          "output_type": "stream",
          "name": "stdout",
          "text": [
            "sample_data\n"
          ]
        }
      ]
    },
    {
      "cell_type": "code",
      "source": [
        "# Carregando dados de inflação\n",
        "\n",
        "!wget 'https://raw.githubusercontent.com/Fagner608/inflacao_global/main/Data%20set%20for%20inflation.csv?token=GHSAT0AAAAAAB5WOSKFPVGCXDSB6FIRGSZIZAAALYA' -O 'inflacao.csv'\n",
        "\n",
        "inflation = pd.read_csv('inflacao.csv')"
      ],
      "metadata": {
        "id": "1HPHPNDO3skr",
        "colab": {
          "base_uri": "https://localhost:8080/"
        },
        "outputId": "299772ff-3933-4fcd-9a96-fed749d52b41"
      },
      "execution_count": 5,
      "outputs": [
        {
          "output_type": "stream",
          "name": "stdout",
          "text": [
            "--2023-03-04 01:19:17--  https://raw.githubusercontent.com/Fagner608/inflacao_global/main/Data%20set%20for%20inflation.csv?token=GHSAT0AAAAAAB5WOSKFPVGCXDSB6FIRGSZIZAAALYA\n",
            "Resolving raw.githubusercontent.com (raw.githubusercontent.com)... 185.199.108.133, 185.199.109.133, 185.199.110.133, ...\n",
            "Connecting to raw.githubusercontent.com (raw.githubusercontent.com)|185.199.108.133|:443... connected.\n",
            "HTTP request sent, awaiting response... 200 OK\n",
            "Length: 150649 (147K) [text/plain]\n",
            "Saving to: ‘inflacao.csv’\n",
            "\n",
            "inflacao.csv        100%[===================>] 147.12K  --.-KB/s    in 0.02s   \n",
            "\n",
            "2023-03-04 01:19:17 (6.32 MB/s) - ‘inflacao.csv’ saved [150649/150649]\n",
            "\n"
          ]
        }
      ]
    },
    {
      "cell_type": "code",
      "source": [
        "# Carregando dados de desemprego\n",
        "\n",
        "!wget 'https://raw.githubusercontent.com/Fagner608/inflacao_global/main/full_data.csv?token=GHSAT0AAAAAAB5WOSKEZRAXD3X2VAQO2EHSZAAAM5A' -O 'unployment.csv'\n",
        "\n",
        "unployment = pd.read_csv('unployment.csv')"
      ],
      "metadata": {
        "id": "309djjeb6-E9",
        "colab": {
          "base_uri": "https://localhost:8080/"
        },
        "outputId": "2d2e43ea-2cc9-4631-f2e4-13f5a228ccb6"
      },
      "execution_count": 6,
      "outputs": [
        {
          "output_type": "stream",
          "name": "stdout",
          "text": [
            "--2023-03-04 01:19:18--  https://raw.githubusercontent.com/Fagner608/inflacao_global/main/full_data.csv?token=GHSAT0AAAAAAB5WOSKEZRAXD3X2VAQO2EHSZAAAM5A\n",
            "Resolving raw.githubusercontent.com (raw.githubusercontent.com)... 185.199.108.133, 185.199.109.133, 185.199.110.133, ...\n",
            "Connecting to raw.githubusercontent.com (raw.githubusercontent.com)|185.199.108.133|:443... connected.\n",
            "HTTP request sent, awaiting response... 200 OK\n",
            "Length: 110496 (108K) [text/plain]\n",
            "Saving to: ‘unployment.csv’\n",
            "\n",
            "unployment.csv      100%[===================>] 107.91K  --.-KB/s    in 0.02s   \n",
            "\n",
            "2023-03-04 01:19:18 (4.92 MB/s) - ‘unployment.csv’ saved [110496/110496]\n",
            "\n"
          ]
        }
      ]
    },
    {
      "cell_type": "code",
      "source": [
        "# Carregando dados do PIB\n",
        "\n",
        "!wget 'https://raw.githubusercontent.com/Fagner608/inflacao_global/main/countries_gdp_hist.csv?token=GHSAT0AAAAAAB5WOSKFVHCYE6UEMJXVOE5QZAAANQA' -O 'pib.csv'\n",
        "\n",
        "pib = pd.read_csv('pib.csv', sep = ';')"
      ],
      "metadata": {
        "id": "rIktUNWe7feS",
        "colab": {
          "base_uri": "https://localhost:8080/"
        },
        "outputId": "10972850-14c2-4eb9-fb9f-c5cd888118e5"
      },
      "execution_count": 7,
      "outputs": [
        {
          "output_type": "stream",
          "name": "stdout",
          "text": [
            "--2023-03-04 01:19:18--  https://raw.githubusercontent.com/Fagner608/inflacao_global/main/countries_gdp_hist.csv?token=GHSAT0AAAAAAB5WOSKFVHCYE6UEMJXVOE5QZAAANQA\n",
            "Resolving raw.githubusercontent.com (raw.githubusercontent.com)... 185.199.108.133, 185.199.109.133, 185.199.110.133, ...\n",
            "Connecting to raw.githubusercontent.com (raw.githubusercontent.com)|185.199.108.133|:443... connected.\n",
            "HTTP request sent, awaiting response... 200 OK\n",
            "Length: 1586722 (1.5M) [text/plain]\n",
            "Saving to: ‘pib.csv’\n",
            "\n",
            "pib.csv             100%[===================>]   1.51M  --.-KB/s    in 0.06s   \n",
            "\n",
            "2023-03-04 01:19:18 (26.7 MB/s) - ‘pib.csv’ saved [1586722/1586722]\n",
            "\n"
          ]
        }
      ]
    },
    {
      "cell_type": "markdown",
      "source": [
        "### **Dicionários de dados**\n",
        "\n",
        "  - inflation\n",
        "\n",
        "|Coluna|Descrição|\n",
        "|-------|---------|\n",
        "|Country Name| Nome dos países|\n",
        "|Country Code| Código(abreviação) dos países|\n",
        "|Indicator Name| Indicador utilizado (preços ao consumidor)|\n",
        "|Indicator Code | Código internacional do indicador utilizado|\n",
        "|1960| Primeiro ano com dado de inflação|\n",
        "|...|...|\n",
        "\n",
        "\n",
        "  - unployment\n",
        "\n",
        "|Coluna|Descrição|\n",
        "|-------|---------|\n",
        "|Country Name| Nome dos países|\n",
        "|Region| A região do país|\n",
        "|Income Group| A qual grupo de renda o país pertence|\n",
        "|Special Notes| Qualquer nota especial sobre o país|\n",
        "|Years(1991-2017| contém a taxa de desemprego desse ano em particular|\n",
        "\n",
        "  - PIB\n",
        "\n",
        "\n",
        "|Coluna|Descrição|\n",
        "|-------|---------|\n",
        "|Alpha 3 country code| Código dos países|\n",
        "|region_name| Continente|\n",
        "|sub_region_name| VERIFICAR|\n",
        "|intermediate_region| VERIFICAR|\n",
        "|country_name| Nome do país|\n",
        "|income_groupe| Faixa de renda|\n",
        "|year| Ano|\n",
        "|total_gdp| Total do PIB|\n",
        "|total_gdp_milion| Total em milhões|\n",
        "|gdp_variation| Variação do PIB|\n"
      ],
      "metadata": {
        "id": "_Zyf-BtU9OSv"
      }
    },
    {
      "cell_type": "markdown",
      "source": [
        "Verificamos que os dados estão dispostos em diferentes estruturas. Faremos o pré-processamento dos dados, deixando-os todos com o mesmo schema."
      ],
      "metadata": {
        "id": "wMvhKfk7BG0J"
      }
    },
    {
      "cell_type": "markdown",
      "source": [
        "### *Esclarecimentos*\n",
        "\n",
        "Verificando a necessidade de pré-processamento, e, estabelecidos os objetivos da análise, aplicaremos POO (programação orientada a objetos) à todas as fases da análise.\n",
        "\n",
        "Foram criadas classes, com métodos e atributos específicos para este dataset, e, para o fluxo de trabalho, nesta ordem:\n",
        "\n",
        "Pré-processamento > Análise exploratória e Data-wrangling > Machine Learning.\n",
        "\n",
        " - As classes herdam os atributos e métodos das criadas para a classe antecessora.\n",
        "\n",
        " - O fluxo acima poderá ser repetido quantas vezes forem necessário para se obter os resutados desejados."
      ],
      "metadata": {
        "id": "TxgvOg2UBd6A"
      }
    },
    {
      "cell_type": "markdown",
      "source": [
        "### **Classe para pré-processamento dos dados**"
      ],
      "metadata": {
        "id": "z3geWFjtBycg"
      }
    },
    {
      "cell_type": "code",
      "source": [
        "# Classe para instanciar o DF\n",
        "class data():\n",
        "\n",
        "  def __init__(self, dataframe: pd.DataFrame) -> pd.DataFrame:\n",
        "\n",
        "    if type(dataframe) == pd.DataFrame:\n",
        "      \n",
        "      self.__df = dataframe\n",
        "\n",
        "    else:\n",
        "\n",
        "      print('Dados não instanciados. Instancie um objeto do tipo pd.DataFrame')\n",
        "\n",
        "  #definindo getter\n",
        "  @property\n",
        "\n",
        "  def dataframe(self):\n",
        "\n",
        "    return self.__df\n",
        "  \n",
        "  #definindo setter\n",
        "  @dataframe.setter\n",
        "\n",
        "  def dataframe(self, df_2):\n",
        "\n",
        "    if type(df_2) == pd.DataFrame:\n",
        "      \n",
        "      self.__df = df_2\n",
        "\n",
        "    else:\n",
        "\n",
        "      print('Dados não instanciados. Instancie um objeto do tipo pd.DataFrame')\n"
      ],
      "metadata": {
        "id": "2Dg3D_sjBddV"
      },
      "execution_count": 8,
      "outputs": []
    },
    {
      "cell_type": "code",
      "source": [
        "# criando classe para verificar informações\n",
        "class pre_processing(data):\n",
        "\n",
        "  def __init__(self):\n",
        "    pass\n",
        "\n",
        "  def clean(self, char = False):\n",
        "\n",
        "    self.dataframe.columns = [i.replace(\" \",\"_\") for i in self.dataframe.columns]\n",
        "\n",
        "    if char is not None:\n",
        "\n",
        "      self.dataframe.columns = [i.replace(f\"{char}\",\"_\") for i in self.dataframe.columns]\n",
        "\n",
        "    for coluna in self.dataframe.select_dtypes('object').columns:\n",
        "        \n",
        "            if char is not None:\n",
        "\n",
        "              self.dataframe[coluna] = self.dataframe[coluna].apply(lambda x: x.replace(f\"{char}\", \"_\"))\n",
        "\n",
        "            self.dataframe[coluna] = self.dataframe[coluna].apply(lambda x: x.replace(\" \", \"_\"))\n",
        "        \n",
        "            self.dataframe[coluna] = self.dataframe[coluna].apply(lambda x: x.lower())\n",
        "        \n",
        "            self.dataframe[coluna] = self.dataframe[coluna].apply(lambda x: re.sub(r'[áàãâä]', 'a', x))\n",
        "        \n",
        "            self.dataframe[coluna] = self.dataframe[coluna].apply(lambda x: re.sub(r'[éèêë]', 'e', x))\n",
        "        \n",
        "            self.dataframe[coluna] = self.dataframe[coluna].apply(lambda x: re.sub(r'[íìîï]', 'i', x))\n",
        "        \n",
        "            self.dataframe[coluna] = self.dataframe[coluna].apply(lambda x: re.sub(r'[óòõôö]', 'o', x))\n",
        "        \n",
        "            self.dataframe[coluna] = self.dataframe[coluna].apply(lambda x: re.sub(r'[úùûü]', 'u', x))\n",
        "        \n",
        "            self.dataframe[coluna] = self.dataframe[coluna].apply(lambda x: re.sub(r'[ç]', 'c', x))\n",
        "\n",
        "            self.dataframe[coluna] = self.dataframe[coluna].apply(lambda x: re.sub(r\"['’]\", '', x))\n"
      ],
      "metadata": {
        "id": "DjaCMF_83I4d"
      },
      "execution_count": 9,
      "outputs": []
    },
    {
      "cell_type": "markdown",
      "source": [
        "### Classe para datawrangling"
      ],
      "metadata": {
        "id": "mrkQt91nFCZj"
      }
    },
    {
      "cell_type": "code",
      "source": [
        "class data_wrangling(pre_processing):\n",
        "\n",
        "  def __init__(self):\n",
        "\n",
        "    pass\n",
        "\n",
        "  #realizando pivot dos dados\n",
        "  def larg_long(self, dados:pd.DataFrame, id_vars = [], var_name = str, value_name = str, sort_values=[]):\n",
        "\n",
        "    return pd.melt(frame=dados, id_vars=id_vars,\n",
        "            var_name=var_name, value_name=value_name).sort_values(by  = sort_values).reset_index(drop = True)\n",
        "\n",
        "  #atribuindo novo tipo aos dados - (preciso fazer classe para analisar e tratar nas antes de fazer conversoes)\n",
        "  def set_attributes(self, atributo: list = str, tipo: list = type):\n",
        "\n",
        "    for attr,tp in zip(atributo, tipo):\n",
        "      \n",
        "      self.dataframe[attr] = self.dataframe[attr].apply(lambda x: tp(x))\n",
        "\n",
        "\n",
        "  #tratando nan\n",
        "  def calculate_nan(self):\n",
        "\n",
        "    nrow = self.dataframe.shape[0]\n",
        "\n",
        "    result = []\n",
        "\n",
        "    for col in self.dataframe.columns:\n",
        "\n",
        "      result.append([str(col), self.dataframe[col].isnull().sum(), str(round((self.dataframe[col].isnull().sum()/nrow),2))+'%'])\n",
        "\n",
        "    return pd.DataFrame(result, columns = ['atributos', 'frequencia_nan', 'nan_%']).set_index(['atributos'])\n",
        "\n",
        "\n",
        "    #info char\n",
        "  def info_char(self):\n",
        "\n",
        "      dados1 = self.calculate_nan()\n",
        "      \n",
        "      dados2 = self.dataframe.select_dtypes('object').describe().T\n",
        "\n",
        "      return pd.concat([dados1, dados2], axis = 1, join = 'inner')\n",
        "\n",
        "\n",
        "    #info number\n",
        "  def info_number(self):\n",
        "\n",
        "      dados1 = self.calculate_nan()\n",
        "      \n",
        "      dados2 = self.dataframe.describe().T\n",
        "\n",
        "      return pd.concat([dados1, dados2], axis = 1, join = 'inner')\n",
        "\n",
        "\n",
        "  #eliminando nan's\n",
        "  def drop_na(self):\n",
        "\n",
        "    self.dataframe.dropna(inplace = True)\n",
        "\n",
        "  #drop values\n",
        "  def drop_values(self, atributo: str, values: list = str):\n",
        "\n",
        "    for value in values:\n",
        "      \n",
        "      self.dataframe = self.dataframe.query(f'{atributo} != {value}').reset_index(drop=True)\n",
        "\n",
        "\n",
        "  #defindo atributos\n",
        "  def attr(self):\n",
        "\n",
        "    setattr(self, 'char_attr', [self.dataframe.select_dtypes('object').columns])\n",
        "\n",
        "    setattr(self, 'number_attr', [self.dataframe.select_dtypes(['int', 'float']).columns])\n",
        "\n",
        "  # Elementos dos atributos\n",
        "  def attr_element(self, elemento: list = ['-', '*', '/', '^']):\n",
        "\n",
        "    item = elemento\n",
        "\n",
        "    dado = {}\n",
        "\n",
        "    for col in self.dataframe.columns:\n",
        "\n",
        "      dado[col] = self.dataframe[col].apply(lambda x: x if x in item else None)\n",
        "\n",
        "    return pd.DataFrame(dado).drop_duplicates().reset_index(drop = True)\n",
        "\n",
        "  #inspecionando elementos - \n",
        "#  def inspect_element(self, regex=str, atributo= str):\n",
        "\n",
        "#    expressao = regex\n",
        "\n",
        "#    dados = re.finditer(expressao, self.dataframe[f'{atributo}'])\n",
        "\n",
        "#    return dados\n",
        "\n",
        "\n",
        "\n",
        "\n"
      ],
      "metadata": {
        "id": "XytslxpsEo9l"
      },
      "execution_count": 821,
      "outputs": []
    },
    {
      "cell_type": "code",
      "source": [
        "teste = data_wrangling()"
      ],
      "metadata": {
        "id": "6Nk9_1H8_XhU"
      },
      "execution_count": 822,
      "outputs": []
    },
    {
      "cell_type": "code",
      "source": [
        "teste.dataframe = inflation"
      ],
      "metadata": {
        "id": "k7wyU7BdBdcY"
      },
      "execution_count": 823,
      "outputs": []
    },
    {
      "cell_type": "code",
      "source": [
        "teste2 = data_wrangling()"
      ],
      "metadata": {
        "id": "B6TywEyncv8z"
      },
      "execution_count": 824,
      "outputs": []
    },
    {
      "cell_type": "code",
      "source": [
        "teste2.dataframe = teste.larg_long(dados=teste.dataframe, id_vars = ['Country_Name', 'Country_Code', 'Indicator_Name', 'Indicator_Code'],\n",
        "                                 var_name = 'year', value_name = 'variacao', sort_values = ['Country_Name', 'year'])"
      ],
      "metadata": {
        "id": "CfcLNtheYQ5f"
      },
      "execution_count": 825,
      "outputs": []
    },
    {
      "cell_type": "code",
      "source": [
        "teste2.drop_na()"
      ],
      "metadata": {
        "id": "liYkNXPLr3JL"
      },
      "execution_count": 826,
      "outputs": []
    },
    {
      "cell_type": "code",
      "source": [
        "lista_tipo = [float]\n",
        "lista_atributos =['variacao']\n",
        "teste2.set_attributes(atributo = lista_atributos, tipo = lista_tipo)"
      ],
      "metadata": {
        "id": "H_8PDXQKqlC-"
      },
      "execution_count": 827,
      "outputs": []
    },
    {
      "cell_type": "code",
      "source": [
        "teste2.dataframe.info()"
      ],
      "metadata": {
        "colab": {
          "base_uri": "https://localhost:8080/"
        },
        "id": "6e0Yp2SMr1Dm",
        "outputId": "9a4eb813-b424-4d0e-a24b-859b1aa4c449"
      },
      "execution_count": 828,
      "outputs": [
        {
          "output_type": "stream",
          "name": "stdout",
          "text": [
            "<class 'pandas.core.frame.DataFrame'>\n",
            "Int64Index: 10489 entries, 45 to 16491\n",
            "Data columns (total 6 columns):\n",
            " #   Column          Non-Null Count  Dtype  \n",
            "---  ------          --------------  -----  \n",
            " 0   Country_Name    10489 non-null  object \n",
            " 1   Country_Code    10489 non-null  object \n",
            " 2   Indicator_Name  10489 non-null  object \n",
            " 3   Indicator_Code  10489 non-null  object \n",
            " 4   year            10489 non-null  object \n",
            " 5   variacao        10489 non-null  float64\n",
            "dtypes: float64(1), object(5)\n",
            "memory usage: 573.6+ KB\n"
          ]
        }
      ]
    },
    {
      "cell_type": "code",
      "source": [
        "teste2.dataframe"
      ],
      "metadata": {
        "colab": {
          "base_uri": "https://localhost:8080/",
          "height": 423
        },
        "id": "zUQ9OynLr_tJ",
        "outputId": "4f2423a2-3369-4de1-8f75-c97ec1a5b0b4"
      },
      "execution_count": 829,
      "outputs": [
        {
          "output_type": "execute_result",
          "data": {
            "text/plain": [
              "      Country_Name Country_Code                         Indicator_Name  \\\n",
              "45     afghanistan          afg  inflation,_consumer_prices_(annual__)   \n",
              "46     afghanistan          afg  inflation,_consumer_prices_(annual__)   \n",
              "47     afghanistan          afg  inflation,_consumer_prices_(annual__)   \n",
              "48     afghanistan          afg  inflation,_consumer_prices_(annual__)   \n",
              "49     afghanistan          afg  inflation,_consumer_prices_(annual__)   \n",
              "...            ...          ...                                    ...   \n",
              "16487     zimbabwe          zwe  inflation,_consumer_prices_(annual__)   \n",
              "16488     zimbabwe          zwe  inflation,_consumer_prices_(annual__)   \n",
              "16489     zimbabwe          zwe  inflation,_consumer_prices_(annual__)   \n",
              "16490     zimbabwe          zwe  inflation,_consumer_prices_(annual__)   \n",
              "16491     zimbabwe          zwe  inflation,_consumer_prices_(annual__)   \n",
              "\n",
              "       Indicator_Code  year    variacao  \n",
              "45     fp.cpi.totl.zg  2005   12.686269  \n",
              "46     fp.cpi.totl.zg  2006    6.784597  \n",
              "47     fp.cpi.totl.zg  2007    8.680571  \n",
              "48     fp.cpi.totl.zg  2008   26.418664  \n",
              "49     fp.cpi.totl.zg  2009   -6.811161  \n",
              "...               ...   ...         ...  \n",
              "16487  fp.cpi.totl.zg  2017    0.893962  \n",
              "16488  fp.cpi.totl.zg  2018   10.618866  \n",
              "16489  fp.cpi.totl.zg  2019  255.304991  \n",
              "16490  fp.cpi.totl.zg  2020  557.201817  \n",
              "16491  fp.cpi.totl.zg  2021   98.546105  \n",
              "\n",
              "[10489 rows x 6 columns]"
            ],
            "text/html": [
              "\n",
              "  <div id=\"df-ac1cb4ac-17aa-42f1-a1fc-1edc0dcbe2b2\">\n",
              "    <div class=\"colab-df-container\">\n",
              "      <div>\n",
              "<style scoped>\n",
              "    .dataframe tbody tr th:only-of-type {\n",
              "        vertical-align: middle;\n",
              "    }\n",
              "\n",
              "    .dataframe tbody tr th {\n",
              "        vertical-align: top;\n",
              "    }\n",
              "\n",
              "    .dataframe thead th {\n",
              "        text-align: right;\n",
              "    }\n",
              "</style>\n",
              "<table border=\"1\" class=\"dataframe\">\n",
              "  <thead>\n",
              "    <tr style=\"text-align: right;\">\n",
              "      <th></th>\n",
              "      <th>Country_Name</th>\n",
              "      <th>Country_Code</th>\n",
              "      <th>Indicator_Name</th>\n",
              "      <th>Indicator_Code</th>\n",
              "      <th>year</th>\n",
              "      <th>variacao</th>\n",
              "    </tr>\n",
              "  </thead>\n",
              "  <tbody>\n",
              "    <tr>\n",
              "      <th>45</th>\n",
              "      <td>afghanistan</td>\n",
              "      <td>afg</td>\n",
              "      <td>inflation,_consumer_prices_(annual__)</td>\n",
              "      <td>fp.cpi.totl.zg</td>\n",
              "      <td>2005</td>\n",
              "      <td>12.686269</td>\n",
              "    </tr>\n",
              "    <tr>\n",
              "      <th>46</th>\n",
              "      <td>afghanistan</td>\n",
              "      <td>afg</td>\n",
              "      <td>inflation,_consumer_prices_(annual__)</td>\n",
              "      <td>fp.cpi.totl.zg</td>\n",
              "      <td>2006</td>\n",
              "      <td>6.784597</td>\n",
              "    </tr>\n",
              "    <tr>\n",
              "      <th>47</th>\n",
              "      <td>afghanistan</td>\n",
              "      <td>afg</td>\n",
              "      <td>inflation,_consumer_prices_(annual__)</td>\n",
              "      <td>fp.cpi.totl.zg</td>\n",
              "      <td>2007</td>\n",
              "      <td>8.680571</td>\n",
              "    </tr>\n",
              "    <tr>\n",
              "      <th>48</th>\n",
              "      <td>afghanistan</td>\n",
              "      <td>afg</td>\n",
              "      <td>inflation,_consumer_prices_(annual__)</td>\n",
              "      <td>fp.cpi.totl.zg</td>\n",
              "      <td>2008</td>\n",
              "      <td>26.418664</td>\n",
              "    </tr>\n",
              "    <tr>\n",
              "      <th>49</th>\n",
              "      <td>afghanistan</td>\n",
              "      <td>afg</td>\n",
              "      <td>inflation,_consumer_prices_(annual__)</td>\n",
              "      <td>fp.cpi.totl.zg</td>\n",
              "      <td>2009</td>\n",
              "      <td>-6.811161</td>\n",
              "    </tr>\n",
              "    <tr>\n",
              "      <th>...</th>\n",
              "      <td>...</td>\n",
              "      <td>...</td>\n",
              "      <td>...</td>\n",
              "      <td>...</td>\n",
              "      <td>...</td>\n",
              "      <td>...</td>\n",
              "    </tr>\n",
              "    <tr>\n",
              "      <th>16487</th>\n",
              "      <td>zimbabwe</td>\n",
              "      <td>zwe</td>\n",
              "      <td>inflation,_consumer_prices_(annual__)</td>\n",
              "      <td>fp.cpi.totl.zg</td>\n",
              "      <td>2017</td>\n",
              "      <td>0.893962</td>\n",
              "    </tr>\n",
              "    <tr>\n",
              "      <th>16488</th>\n",
              "      <td>zimbabwe</td>\n",
              "      <td>zwe</td>\n",
              "      <td>inflation,_consumer_prices_(annual__)</td>\n",
              "      <td>fp.cpi.totl.zg</td>\n",
              "      <td>2018</td>\n",
              "      <td>10.618866</td>\n",
              "    </tr>\n",
              "    <tr>\n",
              "      <th>16489</th>\n",
              "      <td>zimbabwe</td>\n",
              "      <td>zwe</td>\n",
              "      <td>inflation,_consumer_prices_(annual__)</td>\n",
              "      <td>fp.cpi.totl.zg</td>\n",
              "      <td>2019</td>\n",
              "      <td>255.304991</td>\n",
              "    </tr>\n",
              "    <tr>\n",
              "      <th>16490</th>\n",
              "      <td>zimbabwe</td>\n",
              "      <td>zwe</td>\n",
              "      <td>inflation,_consumer_prices_(annual__)</td>\n",
              "      <td>fp.cpi.totl.zg</td>\n",
              "      <td>2020</td>\n",
              "      <td>557.201817</td>\n",
              "    </tr>\n",
              "    <tr>\n",
              "      <th>16491</th>\n",
              "      <td>zimbabwe</td>\n",
              "      <td>zwe</td>\n",
              "      <td>inflation,_consumer_prices_(annual__)</td>\n",
              "      <td>fp.cpi.totl.zg</td>\n",
              "      <td>2021</td>\n",
              "      <td>98.546105</td>\n",
              "    </tr>\n",
              "  </tbody>\n",
              "</table>\n",
              "<p>10489 rows × 6 columns</p>\n",
              "</div>\n",
              "      <button class=\"colab-df-convert\" onclick=\"convertToInteractive('df-ac1cb4ac-17aa-42f1-a1fc-1edc0dcbe2b2')\"\n",
              "              title=\"Convert this dataframe to an interactive table.\"\n",
              "              style=\"display:none;\">\n",
              "        \n",
              "  <svg xmlns=\"http://www.w3.org/2000/svg\" height=\"24px\"viewBox=\"0 0 24 24\"\n",
              "       width=\"24px\">\n",
              "    <path d=\"M0 0h24v24H0V0z\" fill=\"none\"/>\n",
              "    <path d=\"M18.56 5.44l.94 2.06.94-2.06 2.06-.94-2.06-.94-.94-2.06-.94 2.06-2.06.94zm-11 1L8.5 8.5l.94-2.06 2.06-.94-2.06-.94L8.5 2.5l-.94 2.06-2.06.94zm10 10l.94 2.06.94-2.06 2.06-.94-2.06-.94-.94-2.06-.94 2.06-2.06.94z\"/><path d=\"M17.41 7.96l-1.37-1.37c-.4-.4-.92-.59-1.43-.59-.52 0-1.04.2-1.43.59L10.3 9.45l-7.72 7.72c-.78.78-.78 2.05 0 2.83L4 21.41c.39.39.9.59 1.41.59.51 0 1.02-.2 1.41-.59l7.78-7.78 2.81-2.81c.8-.78.8-2.07 0-2.86zM5.41 20L4 18.59l7.72-7.72 1.47 1.35L5.41 20z\"/>\n",
              "  </svg>\n",
              "      </button>\n",
              "      \n",
              "  <style>\n",
              "    .colab-df-container {\n",
              "      display:flex;\n",
              "      flex-wrap:wrap;\n",
              "      gap: 12px;\n",
              "    }\n",
              "\n",
              "    .colab-df-convert {\n",
              "      background-color: #E8F0FE;\n",
              "      border: none;\n",
              "      border-radius: 50%;\n",
              "      cursor: pointer;\n",
              "      display: none;\n",
              "      fill: #1967D2;\n",
              "      height: 32px;\n",
              "      padding: 0 0 0 0;\n",
              "      width: 32px;\n",
              "    }\n",
              "\n",
              "    .colab-df-convert:hover {\n",
              "      background-color: #E2EBFA;\n",
              "      box-shadow: 0px 1px 2px rgba(60, 64, 67, 0.3), 0px 1px 3px 1px rgba(60, 64, 67, 0.15);\n",
              "      fill: #174EA6;\n",
              "    }\n",
              "\n",
              "    [theme=dark] .colab-df-convert {\n",
              "      background-color: #3B4455;\n",
              "      fill: #D2E3FC;\n",
              "    }\n",
              "\n",
              "    [theme=dark] .colab-df-convert:hover {\n",
              "      background-color: #434B5C;\n",
              "      box-shadow: 0px 1px 3px 1px rgba(0, 0, 0, 0.15);\n",
              "      filter: drop-shadow(0px 1px 2px rgba(0, 0, 0, 0.3));\n",
              "      fill: #FFFFFF;\n",
              "    }\n",
              "  </style>\n",
              "\n",
              "      <script>\n",
              "        const buttonEl =\n",
              "          document.querySelector('#df-ac1cb4ac-17aa-42f1-a1fc-1edc0dcbe2b2 button.colab-df-convert');\n",
              "        buttonEl.style.display =\n",
              "          google.colab.kernel.accessAllowed ? 'block' : 'none';\n",
              "\n",
              "        async function convertToInteractive(key) {\n",
              "          const element = document.querySelector('#df-ac1cb4ac-17aa-42f1-a1fc-1edc0dcbe2b2');\n",
              "          const dataTable =\n",
              "            await google.colab.kernel.invokeFunction('convertToInteractive',\n",
              "                                                     [key], {});\n",
              "          if (!dataTable) return;\n",
              "\n",
              "          const docLinkHtml = 'Like what you see? Visit the ' +\n",
              "            '<a target=\"_blank\" href=https://colab.research.google.com/notebooks/data_table.ipynb>data table notebook</a>'\n",
              "            + ' to learn more about interactive tables.';\n",
              "          element.innerHTML = '';\n",
              "          dataTable['output_type'] = 'display_data';\n",
              "          await google.colab.output.renderOutput(dataTable, element);\n",
              "          const docLink = document.createElement('div');\n",
              "          docLink.innerHTML = docLinkHtml;\n",
              "          element.appendChild(docLink);\n",
              "        }\n",
              "      </script>\n",
              "    </div>\n",
              "  </div>\n",
              "  "
            ]
          },
          "metadata": {},
          "execution_count": 829
        }
      ]
    },
    {
      "cell_type": "code",
      "source": [
        "teste2.attr()"
      ],
      "metadata": {
        "id": "4tLH-74Bt5qN"
      },
      "execution_count": 830,
      "outputs": []
    },
    {
      "cell_type": "code",
      "source": [
        "teste2.char_attr"
      ],
      "metadata": {
        "colab": {
          "base_uri": "https://localhost:8080/"
        },
        "id": "N2j2hFZQwgVT",
        "outputId": "dce8b254-70a7-4d21-d873-032f6b6ea1d3"
      },
      "execution_count": 831,
      "outputs": [
        {
          "output_type": "execute_result",
          "data": {
            "text/plain": [
              "[Index(['Country_Name', 'Country_Code', 'Indicator_Name', 'Indicator_Code',\n",
              "        'year'],\n",
              "       dtype='object')]"
            ]
          },
          "metadata": {},
          "execution_count": 831
        }
      ]
    },
    {
      "cell_type": "code",
      "source": [
        "teste2.attr_element()"
      ],
      "metadata": {
        "colab": {
          "base_uri": "https://localhost:8080/",
          "height": 81
        },
        "id": "i-XtTzFc1hU6",
        "outputId": "010c54ea-f8bd-43de-909f-5981b7c7b158"
      },
      "execution_count": 832,
      "outputs": [
        {
          "output_type": "execute_result",
          "data": {
            "text/plain": [
              "  Country_Name Country_Code Indicator_Name Indicator_Code  year variacao\n",
              "0         None         None           None           None  None     None"
            ],
            "text/html": [
              "\n",
              "  <div id=\"df-6c6d45d9-4e96-4fd8-a5ed-728233ea9481\">\n",
              "    <div class=\"colab-df-container\">\n",
              "      <div>\n",
              "<style scoped>\n",
              "    .dataframe tbody tr th:only-of-type {\n",
              "        vertical-align: middle;\n",
              "    }\n",
              "\n",
              "    .dataframe tbody tr th {\n",
              "        vertical-align: top;\n",
              "    }\n",
              "\n",
              "    .dataframe thead th {\n",
              "        text-align: right;\n",
              "    }\n",
              "</style>\n",
              "<table border=\"1\" class=\"dataframe\">\n",
              "  <thead>\n",
              "    <tr style=\"text-align: right;\">\n",
              "      <th></th>\n",
              "      <th>Country_Name</th>\n",
              "      <th>Country_Code</th>\n",
              "      <th>Indicator_Name</th>\n",
              "      <th>Indicator_Code</th>\n",
              "      <th>year</th>\n",
              "      <th>variacao</th>\n",
              "    </tr>\n",
              "  </thead>\n",
              "  <tbody>\n",
              "    <tr>\n",
              "      <th>0</th>\n",
              "      <td>None</td>\n",
              "      <td>None</td>\n",
              "      <td>None</td>\n",
              "      <td>None</td>\n",
              "      <td>None</td>\n",
              "      <td>None</td>\n",
              "    </tr>\n",
              "  </tbody>\n",
              "</table>\n",
              "</div>\n",
              "      <button class=\"colab-df-convert\" onclick=\"convertToInteractive('df-6c6d45d9-4e96-4fd8-a5ed-728233ea9481')\"\n",
              "              title=\"Convert this dataframe to an interactive table.\"\n",
              "              style=\"display:none;\">\n",
              "        \n",
              "  <svg xmlns=\"http://www.w3.org/2000/svg\" height=\"24px\"viewBox=\"0 0 24 24\"\n",
              "       width=\"24px\">\n",
              "    <path d=\"M0 0h24v24H0V0z\" fill=\"none\"/>\n",
              "    <path d=\"M18.56 5.44l.94 2.06.94-2.06 2.06-.94-2.06-.94-.94-2.06-.94 2.06-2.06.94zm-11 1L8.5 8.5l.94-2.06 2.06-.94-2.06-.94L8.5 2.5l-.94 2.06-2.06.94zm10 10l.94 2.06.94-2.06 2.06-.94-2.06-.94-.94-2.06-.94 2.06-2.06.94z\"/><path d=\"M17.41 7.96l-1.37-1.37c-.4-.4-.92-.59-1.43-.59-.52 0-1.04.2-1.43.59L10.3 9.45l-7.72 7.72c-.78.78-.78 2.05 0 2.83L4 21.41c.39.39.9.59 1.41.59.51 0 1.02-.2 1.41-.59l7.78-7.78 2.81-2.81c.8-.78.8-2.07 0-2.86zM5.41 20L4 18.59l7.72-7.72 1.47 1.35L5.41 20z\"/>\n",
              "  </svg>\n",
              "      </button>\n",
              "      \n",
              "  <style>\n",
              "    .colab-df-container {\n",
              "      display:flex;\n",
              "      flex-wrap:wrap;\n",
              "      gap: 12px;\n",
              "    }\n",
              "\n",
              "    .colab-df-convert {\n",
              "      background-color: #E8F0FE;\n",
              "      border: none;\n",
              "      border-radius: 50%;\n",
              "      cursor: pointer;\n",
              "      display: none;\n",
              "      fill: #1967D2;\n",
              "      height: 32px;\n",
              "      padding: 0 0 0 0;\n",
              "      width: 32px;\n",
              "    }\n",
              "\n",
              "    .colab-df-convert:hover {\n",
              "      background-color: #E2EBFA;\n",
              "      box-shadow: 0px 1px 2px rgba(60, 64, 67, 0.3), 0px 1px 3px 1px rgba(60, 64, 67, 0.15);\n",
              "      fill: #174EA6;\n",
              "    }\n",
              "\n",
              "    [theme=dark] .colab-df-convert {\n",
              "      background-color: #3B4455;\n",
              "      fill: #D2E3FC;\n",
              "    }\n",
              "\n",
              "    [theme=dark] .colab-df-convert:hover {\n",
              "      background-color: #434B5C;\n",
              "      box-shadow: 0px 1px 3px 1px rgba(0, 0, 0, 0.15);\n",
              "      filter: drop-shadow(0px 1px 2px rgba(0, 0, 0, 0.3));\n",
              "      fill: #FFFFFF;\n",
              "    }\n",
              "  </style>\n",
              "\n",
              "      <script>\n",
              "        const buttonEl =\n",
              "          document.querySelector('#df-6c6d45d9-4e96-4fd8-a5ed-728233ea9481 button.colab-df-convert');\n",
              "        buttonEl.style.display =\n",
              "          google.colab.kernel.accessAllowed ? 'block' : 'none';\n",
              "\n",
              "        async function convertToInteractive(key) {\n",
              "          const element = document.querySelector('#df-6c6d45d9-4e96-4fd8-a5ed-728233ea9481');\n",
              "          const dataTable =\n",
              "            await google.colab.kernel.invokeFunction('convertToInteractive',\n",
              "                                                     [key], {});\n",
              "          if (!dataTable) return;\n",
              "\n",
              "          const docLinkHtml = 'Like what you see? Visit the ' +\n",
              "            '<a target=\"_blank\" href=https://colab.research.google.com/notebooks/data_table.ipynb>data table notebook</a>'\n",
              "            + ' to learn more about interactive tables.';\n",
              "          element.innerHTML = '';\n",
              "          dataTable['output_type'] = 'display_data';\n",
              "          await google.colab.output.renderOutput(dataTable, element);\n",
              "          const docLink = document.createElement('div');\n",
              "          docLink.innerHTML = docLinkHtml;\n",
              "          element.appendChild(docLink);\n",
              "        }\n",
              "      </script>\n",
              "    </div>\n",
              "  </div>\n",
              "  "
            ]
          },
          "metadata": {},
          "execution_count": 832
        }
      ]
    },
    {
      "cell_type": "markdown",
      "source": [
        "Em andamento"
      ],
      "metadata": {
        "id": "BGwNtn8EE-kO"
      }
    },
    {
      "cell_type": "code",
      "source": [],
      "metadata": {
        "id": "lO3Mycr797rC"
      },
      "execution_count": 741,
      "outputs": []
    }
  ]
}